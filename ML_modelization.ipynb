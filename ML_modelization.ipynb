{
 "cells": [
  {
   "cell_type": "markdown",
   "metadata": {},
   "source": [
    "# WHO national life expectancy - Modelization"
   ]
  },
  {
   "cell_type": "markdown",
   "metadata": {},
   "source": [
    "## Librairies"
   ]
  },
  {
   "cell_type": "code",
   "execution_count": 60,
   "metadata": {},
   "outputs": [],
   "source": [
    "import pandas as pd\n",
    "import matplotlib.pyplot as plt\n",
    "import seaborn as sns\n",
    "import numpy as np"
   ]
  },
  {
   "cell_type": "code",
   "execution_count": 61,
   "metadata": {},
   "outputs": [],
   "source": [
    "sns.set_theme(style=\"darkgrid\")"
   ]
  },
  {
   "cell_type": "markdown",
   "metadata": {},
   "source": [
    "## Import dataset"
   ]
  },
  {
   "cell_type": "code",
   "execution_count": 62,
   "metadata": {},
   "outputs": [
    {
     "data": {
      "text/html": [
       "<div>\n",
       "<style scoped>\n",
       "    .dataframe tbody tr th:only-of-type {\n",
       "        vertical-align: middle;\n",
       "    }\n",
       "\n",
       "    .dataframe tbody tr th {\n",
       "        vertical-align: top;\n",
       "    }\n",
       "\n",
       "    .dataframe thead th {\n",
       "        text-align: right;\n",
       "    }\n",
       "</style>\n",
       "<table border=\"1\" class=\"dataframe\">\n",
       "  <thead>\n",
       "    <tr style=\"text-align: right;\">\n",
       "      <th></th>\n",
       "      <th>country</th>\n",
       "      <th>country_code</th>\n",
       "      <th>region</th>\n",
       "      <th>year</th>\n",
       "      <th>life_expect</th>\n",
       "      <th>life_exp60</th>\n",
       "      <th>adult_mortality</th>\n",
       "      <th>infant_mort</th>\n",
       "      <th>age1-4mort</th>\n",
       "      <th>alcohol</th>\n",
       "      <th>...</th>\n",
       "      <th>che_gdp</th>\n",
       "      <th>une_pop</th>\n",
       "      <th>une_infant</th>\n",
       "      <th>une_life</th>\n",
       "      <th>une_hiv</th>\n",
       "      <th>une_gni</th>\n",
       "      <th>une_poverty</th>\n",
       "      <th>une_edu_spend</th>\n",
       "      <th>une_literacy</th>\n",
       "      <th>une_school</th>\n",
       "    </tr>\n",
       "  </thead>\n",
       "  <tbody>\n",
       "    <tr>\n",
       "      <th>0</th>\n",
       "      <td>Angola</td>\n",
       "      <td>AGO</td>\n",
       "      <td>Africa</td>\n",
       "      <td>2000</td>\n",
       "      <td>47.33730</td>\n",
       "      <td>14.73400</td>\n",
       "      <td>383.5583</td>\n",
       "      <td>0.137985</td>\n",
       "      <td>0.025695</td>\n",
       "      <td>1.47439</td>\n",
       "      <td>...</td>\n",
       "      <td>1.90860</td>\n",
       "      <td>16395.473</td>\n",
       "      <td>122.2</td>\n",
       "      <td>46.522</td>\n",
       "      <td>1.0</td>\n",
       "      <td>2530.0</td>\n",
       "      <td>32.3</td>\n",
       "      <td>2.60753</td>\n",
       "      <td>NaN</td>\n",
       "      <td>NaN</td>\n",
       "    </tr>\n",
       "    <tr>\n",
       "      <th>1</th>\n",
       "      <td>Angola</td>\n",
       "      <td>AGO</td>\n",
       "      <td>Africa</td>\n",
       "      <td>2001</td>\n",
       "      <td>48.19789</td>\n",
       "      <td>14.95963</td>\n",
       "      <td>372.3876</td>\n",
       "      <td>0.133675</td>\n",
       "      <td>0.024500</td>\n",
       "      <td>1.94025</td>\n",
       "      <td>...</td>\n",
       "      <td>4.48352</td>\n",
       "      <td>16945.753</td>\n",
       "      <td>118.9</td>\n",
       "      <td>47.059</td>\n",
       "      <td>1.1</td>\n",
       "      <td>2630.0</td>\n",
       "      <td>NaN</td>\n",
       "      <td>NaN</td>\n",
       "      <td>67.40542</td>\n",
       "      <td>NaN</td>\n",
       "    </tr>\n",
       "    <tr>\n",
       "      <th>2</th>\n",
       "      <td>Angola</td>\n",
       "      <td>AGO</td>\n",
       "      <td>Africa</td>\n",
       "      <td>2002</td>\n",
       "      <td>49.42569</td>\n",
       "      <td>15.20010</td>\n",
       "      <td>354.5147</td>\n",
       "      <td>0.128320</td>\n",
       "      <td>0.023260</td>\n",
       "      <td>2.07512</td>\n",
       "      <td>...</td>\n",
       "      <td>3.32946</td>\n",
       "      <td>17519.417</td>\n",
       "      <td>115.1</td>\n",
       "      <td>47.702</td>\n",
       "      <td>1.2</td>\n",
       "      <td>3180.0</td>\n",
       "      <td>NaN</td>\n",
       "      <td>NaN</td>\n",
       "      <td>NaN</td>\n",
       "      <td>NaN</td>\n",
       "    </tr>\n",
       "    <tr>\n",
       "      <th>3</th>\n",
       "      <td>Angola</td>\n",
       "      <td>AGO</td>\n",
       "      <td>Africa</td>\n",
       "      <td>2003</td>\n",
       "      <td>50.50266</td>\n",
       "      <td>15.39144</td>\n",
       "      <td>343.2169</td>\n",
       "      <td>0.122040</td>\n",
       "      <td>0.021925</td>\n",
       "      <td>2.20275</td>\n",
       "      <td>...</td>\n",
       "      <td>3.54797</td>\n",
       "      <td>18121.479</td>\n",
       "      <td>110.8</td>\n",
       "      <td>48.440</td>\n",
       "      <td>1.3</td>\n",
       "      <td>3260.0</td>\n",
       "      <td>NaN</td>\n",
       "      <td>NaN</td>\n",
       "      <td>NaN</td>\n",
       "      <td>NaN</td>\n",
       "    </tr>\n",
       "    <tr>\n",
       "      <th>4</th>\n",
       "      <td>Angola</td>\n",
       "      <td>AGO</td>\n",
       "      <td>Africa</td>\n",
       "      <td>2004</td>\n",
       "      <td>51.52863</td>\n",
       "      <td>15.56860</td>\n",
       "      <td>333.8711</td>\n",
       "      <td>0.115700</td>\n",
       "      <td>0.020545</td>\n",
       "      <td>2.41274</td>\n",
       "      <td>...</td>\n",
       "      <td>3.96720</td>\n",
       "      <td>18758.145</td>\n",
       "      <td>106.2</td>\n",
       "      <td>49.263</td>\n",
       "      <td>1.3</td>\n",
       "      <td>3560.0</td>\n",
       "      <td>NaN</td>\n",
       "      <td>NaN</td>\n",
       "      <td>NaN</td>\n",
       "      <td>NaN</td>\n",
       "    </tr>\n",
       "  </tbody>\n",
       "</table>\n",
       "<p>5 rows × 32 columns</p>\n",
       "</div>"
      ],
      "text/plain": [
       "  country country_code  region  year  life_expect  life_exp60  \\\n",
       "0  Angola          AGO  Africa  2000     47.33730    14.73400   \n",
       "1  Angola          AGO  Africa  2001     48.19789    14.95963   \n",
       "2  Angola          AGO  Africa  2002     49.42569    15.20010   \n",
       "3  Angola          AGO  Africa  2003     50.50266    15.39144   \n",
       "4  Angola          AGO  Africa  2004     51.52863    15.56860   \n",
       "\n",
       "   adult_mortality  infant_mort  age1-4mort  alcohol  ...  che_gdp    une_pop  \\\n",
       "0         383.5583     0.137985    0.025695  1.47439  ...  1.90860  16395.473   \n",
       "1         372.3876     0.133675    0.024500  1.94025  ...  4.48352  16945.753   \n",
       "2         354.5147     0.128320    0.023260  2.07512  ...  3.32946  17519.417   \n",
       "3         343.2169     0.122040    0.021925  2.20275  ...  3.54797  18121.479   \n",
       "4         333.8711     0.115700    0.020545  2.41274  ...  3.96720  18758.145   \n",
       "\n",
       "   une_infant  une_life  une_hiv  une_gni  une_poverty  une_edu_spend  \\\n",
       "0       122.2    46.522      1.0   2530.0         32.3        2.60753   \n",
       "1       118.9    47.059      1.1   2630.0          NaN            NaN   \n",
       "2       115.1    47.702      1.2   3180.0          NaN            NaN   \n",
       "3       110.8    48.440      1.3   3260.0          NaN            NaN   \n",
       "4       106.2    49.263      1.3   3560.0          NaN            NaN   \n",
       "\n",
       "   une_literacy  une_school  \n",
       "0           NaN         NaN  \n",
       "1      67.40542         NaN  \n",
       "2           NaN         NaN  \n",
       "3           NaN         NaN  \n",
       "4           NaN         NaN  \n",
       "\n",
       "[5 rows x 32 columns]"
      ]
     },
     "execution_count": 62,
     "metadata": {},
     "output_type": "execute_result"
    }
   ],
   "source": [
    "df = pd.read_csv('who_life_exp.csv')\n",
    "df.head()"
   ]
  },
  {
   "cell_type": "markdown",
   "metadata": {},
   "source": [
    "## Feature pre-selection based on EDA results"
   ]
  },
  {
   "cell_type": "markdown",
   "metadata": {},
   "source": [
    "### Missing values pre-selection"
   ]
  },
  {
   "cell_type": "code",
   "execution_count": 63,
   "metadata": {},
   "outputs": [],
   "source": [
    "miss_coeff = 0.8"
   ]
  },
  {
   "cell_type": "code",
   "execution_count": 64,
   "metadata": {},
   "outputs": [
    {
     "data": {
      "text/html": [
       "<div>\n",
       "<style scoped>\n",
       "    .dataframe tbody tr th:only-of-type {\n",
       "        vertical-align: middle;\n",
       "    }\n",
       "\n",
       "    .dataframe tbody tr th {\n",
       "        vertical-align: top;\n",
       "    }\n",
       "\n",
       "    .dataframe thead th {\n",
       "        text-align: right;\n",
       "    }\n",
       "</style>\n",
       "<table border=\"1\" class=\"dataframe\">\n",
       "  <thead>\n",
       "    <tr style=\"text-align: right;\">\n",
       "      <th></th>\n",
       "      <th>country</th>\n",
       "      <th>country_code</th>\n",
       "      <th>region</th>\n",
       "      <th>year</th>\n",
       "      <th>life_expect</th>\n",
       "      <th>life_exp60</th>\n",
       "      <th>adult_mortality</th>\n",
       "      <th>infant_mort</th>\n",
       "      <th>age1-4mort</th>\n",
       "      <th>alcohol</th>\n",
       "      <th>...</th>\n",
       "      <th>gghe-d</th>\n",
       "      <th>che_gdp</th>\n",
       "      <th>une_pop</th>\n",
       "      <th>une_infant</th>\n",
       "      <th>une_life</th>\n",
       "      <th>une_hiv</th>\n",
       "      <th>une_gni</th>\n",
       "      <th>une_poverty</th>\n",
       "      <th>une_edu_spend</th>\n",
       "      <th>une_school</th>\n",
       "    </tr>\n",
       "  </thead>\n",
       "  <tbody>\n",
       "    <tr>\n",
       "      <th>0</th>\n",
       "      <td>Angola</td>\n",
       "      <td>AGO</td>\n",
       "      <td>Africa</td>\n",
       "      <td>2000</td>\n",
       "      <td>47.33730</td>\n",
       "      <td>14.73400</td>\n",
       "      <td>383.5583</td>\n",
       "      <td>0.137985</td>\n",
       "      <td>0.025695</td>\n",
       "      <td>1.47439</td>\n",
       "      <td>...</td>\n",
       "      <td>1.11099</td>\n",
       "      <td>1.90860</td>\n",
       "      <td>16395.473</td>\n",
       "      <td>122.2</td>\n",
       "      <td>46.522</td>\n",
       "      <td>1.0</td>\n",
       "      <td>2530.0</td>\n",
       "      <td>32.3</td>\n",
       "      <td>2.60753</td>\n",
       "      <td>NaN</td>\n",
       "    </tr>\n",
       "    <tr>\n",
       "      <th>1</th>\n",
       "      <td>Angola</td>\n",
       "      <td>AGO</td>\n",
       "      <td>Africa</td>\n",
       "      <td>2001</td>\n",
       "      <td>48.19789</td>\n",
       "      <td>14.95963</td>\n",
       "      <td>372.3876</td>\n",
       "      <td>0.133675</td>\n",
       "      <td>0.024500</td>\n",
       "      <td>1.94025</td>\n",
       "      <td>...</td>\n",
       "      <td>2.04631</td>\n",
       "      <td>4.48352</td>\n",
       "      <td>16945.753</td>\n",
       "      <td>118.9</td>\n",
       "      <td>47.059</td>\n",
       "      <td>1.1</td>\n",
       "      <td>2630.0</td>\n",
       "      <td>NaN</td>\n",
       "      <td>NaN</td>\n",
       "      <td>NaN</td>\n",
       "    </tr>\n",
       "    <tr>\n",
       "      <th>2</th>\n",
       "      <td>Angola</td>\n",
       "      <td>AGO</td>\n",
       "      <td>Africa</td>\n",
       "      <td>2002</td>\n",
       "      <td>49.42569</td>\n",
       "      <td>15.20010</td>\n",
       "      <td>354.5147</td>\n",
       "      <td>0.128320</td>\n",
       "      <td>0.023260</td>\n",
       "      <td>2.07512</td>\n",
       "      <td>...</td>\n",
       "      <td>1.30863</td>\n",
       "      <td>3.32946</td>\n",
       "      <td>17519.417</td>\n",
       "      <td>115.1</td>\n",
       "      <td>47.702</td>\n",
       "      <td>1.2</td>\n",
       "      <td>3180.0</td>\n",
       "      <td>NaN</td>\n",
       "      <td>NaN</td>\n",
       "      <td>NaN</td>\n",
       "    </tr>\n",
       "    <tr>\n",
       "      <th>3</th>\n",
       "      <td>Angola</td>\n",
       "      <td>AGO</td>\n",
       "      <td>Africa</td>\n",
       "      <td>2003</td>\n",
       "      <td>50.50266</td>\n",
       "      <td>15.39144</td>\n",
       "      <td>343.2169</td>\n",
       "      <td>0.122040</td>\n",
       "      <td>0.021925</td>\n",
       "      <td>2.20275</td>\n",
       "      <td>...</td>\n",
       "      <td>1.46560</td>\n",
       "      <td>3.54797</td>\n",
       "      <td>18121.479</td>\n",
       "      <td>110.8</td>\n",
       "      <td>48.440</td>\n",
       "      <td>1.3</td>\n",
       "      <td>3260.0</td>\n",
       "      <td>NaN</td>\n",
       "      <td>NaN</td>\n",
       "      <td>NaN</td>\n",
       "    </tr>\n",
       "    <tr>\n",
       "      <th>4</th>\n",
       "      <td>Angola</td>\n",
       "      <td>AGO</td>\n",
       "      <td>Africa</td>\n",
       "      <td>2004</td>\n",
       "      <td>51.52863</td>\n",
       "      <td>15.56860</td>\n",
       "      <td>333.8711</td>\n",
       "      <td>0.115700</td>\n",
       "      <td>0.020545</td>\n",
       "      <td>2.41274</td>\n",
       "      <td>...</td>\n",
       "      <td>1.68663</td>\n",
       "      <td>3.96720</td>\n",
       "      <td>18758.145</td>\n",
       "      <td>106.2</td>\n",
       "      <td>49.263</td>\n",
       "      <td>1.3</td>\n",
       "      <td>3560.0</td>\n",
       "      <td>NaN</td>\n",
       "      <td>NaN</td>\n",
       "      <td>NaN</td>\n",
       "    </tr>\n",
       "  </tbody>\n",
       "</table>\n",
       "<p>5 rows × 30 columns</p>\n",
       "</div>"
      ],
      "text/plain": [
       "  country country_code  region  year  life_expect  life_exp60  \\\n",
       "0  Angola          AGO  Africa  2000     47.33730    14.73400   \n",
       "1  Angola          AGO  Africa  2001     48.19789    14.95963   \n",
       "2  Angola          AGO  Africa  2002     49.42569    15.20010   \n",
       "3  Angola          AGO  Africa  2003     50.50266    15.39144   \n",
       "4  Angola          AGO  Africa  2004     51.52863    15.56860   \n",
       "\n",
       "   adult_mortality  infant_mort  age1-4mort  alcohol  ...   gghe-d  che_gdp  \\\n",
       "0         383.5583     0.137985    0.025695  1.47439  ...  1.11099  1.90860   \n",
       "1         372.3876     0.133675    0.024500  1.94025  ...  2.04631  4.48352   \n",
       "2         354.5147     0.128320    0.023260  2.07512  ...  1.30863  3.32946   \n",
       "3         343.2169     0.122040    0.021925  2.20275  ...  1.46560  3.54797   \n",
       "4         333.8711     0.115700    0.020545  2.41274  ...  1.68663  3.96720   \n",
       "\n",
       "     une_pop  une_infant  une_life  une_hiv  une_gni  une_poverty  \\\n",
       "0  16395.473       122.2    46.522      1.0   2530.0         32.3   \n",
       "1  16945.753       118.9    47.059      1.1   2630.0          NaN   \n",
       "2  17519.417       115.1    47.702      1.2   3180.0          NaN   \n",
       "3  18121.479       110.8    48.440      1.3   3260.0          NaN   \n",
       "4  18758.145       106.2    49.263      1.3   3560.0          NaN   \n",
       "\n",
       "   une_edu_spend  une_school  \n",
       "0        2.60753         NaN  \n",
       "1            NaN         NaN  \n",
       "2            NaN         NaN  \n",
       "3            NaN         NaN  \n",
       "4            NaN         NaN  \n",
       "\n",
       "[5 rows x 30 columns]"
      ]
     },
     "execution_count": 64,
     "metadata": {},
     "output_type": "execute_result"
    }
   ],
   "source": [
    "df_missing = df.isna().sum() / df.shape[0]\n",
    "df_prep = df[df.columns[df_missing < miss_coeff]]\n",
    "df_prep.head()"
   ]
  },
  {
   "cell_type": "markdown",
   "metadata": {},
   "source": [
    "### Columns pre-selection"
   ]
  },
  {
   "cell_type": "code",
   "execution_count": 65,
   "metadata": {},
   "outputs": [],
   "source": [
    "health_dict = {\n",
    "    'sanitary': ['basic_water'],\n",
    "    'physical_shape': ['bmi', 'age5-19thinness', 'age5-19obesity'],\n",
    "    'health_coverage': ['measles', 'polio', 'diphtheria'],\n",
    "    'gov_investments': ['gghe-d', 'che_gdp']\n",
    "}"
   ]
  },
  {
   "cell_type": "code",
   "execution_count": 66,
   "metadata": {},
   "outputs": [],
   "source": [
    "mortality_cols = ['adult_mortality', 'infant_mort', 'age1-4mort']\n",
    "std_life_cols = ['une_poverty', 'une_gni', 'gni_capita']\n",
    "edu_cols = ['une_school', 'une_edu_spend']\n",
    "\n",
    "health_cols = []\n",
    "for k,v in health_dict.items():\n",
    "    health_cols.extend(v)\n",
    "\n",
    "geo_cols = ['region', 'country']\n",
    "target = 'une_life'\n",
    "cat_target = 'life_exp_cat'\n",
    "enc_cols = geo_cols + [cat_target]"
   ]
  },
  {
   "cell_type": "code",
   "execution_count": 67,
   "metadata": {},
   "outputs": [
    {
     "data": {
      "text/html": [
       "<div>\n",
       "<style scoped>\n",
       "    .dataframe tbody tr th:only-of-type {\n",
       "        vertical-align: middle;\n",
       "    }\n",
       "\n",
       "    .dataframe tbody tr th {\n",
       "        vertical-align: top;\n",
       "    }\n",
       "\n",
       "    .dataframe thead th {\n",
       "        text-align: right;\n",
       "    }\n",
       "</style>\n",
       "<table border=\"1\" class=\"dataframe\">\n",
       "  <thead>\n",
       "    <tr style=\"text-align: right;\">\n",
       "      <th></th>\n",
       "      <th>region</th>\n",
       "      <th>country</th>\n",
       "      <th>adult_mortality</th>\n",
       "      <th>infant_mort</th>\n",
       "      <th>age1-4mort</th>\n",
       "      <th>une_poverty</th>\n",
       "      <th>une_gni</th>\n",
       "      <th>gni_capita</th>\n",
       "      <th>une_school</th>\n",
       "      <th>une_edu_spend</th>\n",
       "      <th>basic_water</th>\n",
       "      <th>bmi</th>\n",
       "      <th>age5-19thinness</th>\n",
       "      <th>age5-19obesity</th>\n",
       "      <th>measles</th>\n",
       "      <th>polio</th>\n",
       "      <th>diphtheria</th>\n",
       "      <th>gghe-d</th>\n",
       "      <th>che_gdp</th>\n",
       "      <th>une_life</th>\n",
       "    </tr>\n",
       "  </thead>\n",
       "  <tbody>\n",
       "    <tr>\n",
       "      <th>0</th>\n",
       "      <td>Africa</td>\n",
       "      <td>Angola</td>\n",
       "      <td>383.5583</td>\n",
       "      <td>0.137985</td>\n",
       "      <td>0.025695</td>\n",
       "      <td>32.3</td>\n",
       "      <td>2530.0</td>\n",
       "      <td>2190.0</td>\n",
       "      <td>NaN</td>\n",
       "      <td>2.60753</td>\n",
       "      <td>41.14431</td>\n",
       "      <td>21.7</td>\n",
       "      <td>11.0</td>\n",
       "      <td>0.5</td>\n",
       "      <td>32.0</td>\n",
       "      <td>21.0</td>\n",
       "      <td>31.0</td>\n",
       "      <td>1.11099</td>\n",
       "      <td>1.90860</td>\n",
       "      <td>46.522</td>\n",
       "    </tr>\n",
       "    <tr>\n",
       "      <th>1</th>\n",
       "      <td>Africa</td>\n",
       "      <td>Angola</td>\n",
       "      <td>372.3876</td>\n",
       "      <td>0.133675</td>\n",
       "      <td>0.024500</td>\n",
       "      <td>NaN</td>\n",
       "      <td>2630.0</td>\n",
       "      <td>2290.0</td>\n",
       "      <td>NaN</td>\n",
       "      <td>NaN</td>\n",
       "      <td>42.25467</td>\n",
       "      <td>21.8</td>\n",
       "      <td>10.9</td>\n",
       "      <td>0.5</td>\n",
       "      <td>60.0</td>\n",
       "      <td>28.0</td>\n",
       "      <td>42.0</td>\n",
       "      <td>2.04631</td>\n",
       "      <td>4.48352</td>\n",
       "      <td>47.059</td>\n",
       "    </tr>\n",
       "    <tr>\n",
       "      <th>2</th>\n",
       "      <td>Africa</td>\n",
       "      <td>Angola</td>\n",
       "      <td>354.5147</td>\n",
       "      <td>0.128320</td>\n",
       "      <td>0.023260</td>\n",
       "      <td>NaN</td>\n",
       "      <td>3180.0</td>\n",
       "      <td>2690.0</td>\n",
       "      <td>NaN</td>\n",
       "      <td>NaN</td>\n",
       "      <td>43.37680</td>\n",
       "      <td>21.9</td>\n",
       "      <td>10.7</td>\n",
       "      <td>0.6</td>\n",
       "      <td>59.0</td>\n",
       "      <td>22.0</td>\n",
       "      <td>47.0</td>\n",
       "      <td>1.30863</td>\n",
       "      <td>3.32946</td>\n",
       "      <td>47.702</td>\n",
       "    </tr>\n",
       "    <tr>\n",
       "      <th>3</th>\n",
       "      <td>Africa</td>\n",
       "      <td>Angola</td>\n",
       "      <td>343.2169</td>\n",
       "      <td>0.122040</td>\n",
       "      <td>0.021925</td>\n",
       "      <td>NaN</td>\n",
       "      <td>3260.0</td>\n",
       "      <td>2820.0</td>\n",
       "      <td>NaN</td>\n",
       "      <td>NaN</td>\n",
       "      <td>44.36387</td>\n",
       "      <td>22.0</td>\n",
       "      <td>10.5</td>\n",
       "      <td>0.7</td>\n",
       "      <td>44.0</td>\n",
       "      <td>21.0</td>\n",
       "      <td>46.0</td>\n",
       "      <td>1.46560</td>\n",
       "      <td>3.54797</td>\n",
       "      <td>48.440</td>\n",
       "    </tr>\n",
       "    <tr>\n",
       "      <th>4</th>\n",
       "      <td>Africa</td>\n",
       "      <td>Angola</td>\n",
       "      <td>333.8711</td>\n",
       "      <td>0.115700</td>\n",
       "      <td>0.020545</td>\n",
       "      <td>NaN</td>\n",
       "      <td>3560.0</td>\n",
       "      <td>3080.0</td>\n",
       "      <td>NaN</td>\n",
       "      <td>NaN</td>\n",
       "      <td>45.35134</td>\n",
       "      <td>22.2</td>\n",
       "      <td>10.3</td>\n",
       "      <td>0.8</td>\n",
       "      <td>43.0</td>\n",
       "      <td>18.0</td>\n",
       "      <td>47.0</td>\n",
       "      <td>1.68663</td>\n",
       "      <td>3.96720</td>\n",
       "      <td>49.263</td>\n",
       "    </tr>\n",
       "  </tbody>\n",
       "</table>\n",
       "</div>"
      ],
      "text/plain": [
       "   region country  adult_mortality  infant_mort  age1-4mort  une_poverty  \\\n",
       "0  Africa  Angola         383.5583     0.137985    0.025695         32.3   \n",
       "1  Africa  Angola         372.3876     0.133675    0.024500          NaN   \n",
       "2  Africa  Angola         354.5147     0.128320    0.023260          NaN   \n",
       "3  Africa  Angola         343.2169     0.122040    0.021925          NaN   \n",
       "4  Africa  Angola         333.8711     0.115700    0.020545          NaN   \n",
       "\n",
       "   une_gni  gni_capita  une_school  une_edu_spend  basic_water   bmi  \\\n",
       "0   2530.0      2190.0         NaN        2.60753     41.14431  21.7   \n",
       "1   2630.0      2290.0         NaN            NaN     42.25467  21.8   \n",
       "2   3180.0      2690.0         NaN            NaN     43.37680  21.9   \n",
       "3   3260.0      2820.0         NaN            NaN     44.36387  22.0   \n",
       "4   3560.0      3080.0         NaN            NaN     45.35134  22.2   \n",
       "\n",
       "   age5-19thinness  age5-19obesity  measles  polio  diphtheria   gghe-d  \\\n",
       "0             11.0             0.5     32.0   21.0        31.0  1.11099   \n",
       "1             10.9             0.5     60.0   28.0        42.0  2.04631   \n",
       "2             10.7             0.6     59.0   22.0        47.0  1.30863   \n",
       "3             10.5             0.7     44.0   21.0        46.0  1.46560   \n",
       "4             10.3             0.8     43.0   18.0        47.0  1.68663   \n",
       "\n",
       "   che_gdp  une_life  \n",
       "0  1.90860    46.522  \n",
       "1  4.48352    47.059  \n",
       "2  3.32946    47.702  \n",
       "3  3.54797    48.440  \n",
       "4  3.96720    49.263  "
      ]
     },
     "execution_count": 67,
     "metadata": {},
     "output_type": "execute_result"
    }
   ],
   "source": [
    "df_prep = df_prep[geo_cols + mortality_cols + std_life_cols + edu_cols + health_cols + [target]]\n",
    "df_prep.head()"
   ]
  },
  {
   "cell_type": "markdown",
   "metadata": {},
   "source": [
    "## Prototyping"
   ]
  },
  {
   "cell_type": "markdown",
   "metadata": {},
   "source": [
    "### Preprocessing"
   ]
  },
  {
   "cell_type": "markdown",
   "metadata": {},
   "source": [
    "#### Feature engineering : categorize target col"
   ]
  },
  {
   "cell_type": "code",
   "execution_count": 68,
   "metadata": {},
   "outputs": [],
   "source": [
    "def categorize_target(life_exp: float) -> str:\n",
    "    \n",
    "    if life_exp < 50:\n",
    "        return 'under 50'\n",
    "    \n",
    "    elif 50 <= life_exp <= 60:\n",
    "        return '50-60'\n",
    "    \n",
    "    elif 60 < life_exp <= 70:\n",
    "        return '60-70'\n",
    "    \n",
    "    elif 70 < life_exp <= 80:\n",
    "        return '70-80'\n",
    "    \n",
    "    else:\n",
    "        return 'above 80'"
   ]
  },
  {
   "cell_type": "code",
   "execution_count": 69,
   "metadata": {},
   "outputs": [],
   "source": [
    "def feature_engineering(df_: pd.DataFrame) -> pd.DataFrame:\n",
    "    df_[cat_target] = df_[target].apply(categorize_target)\n",
    "    return df_.drop(target, axis=1)"
   ]
  },
  {
   "cell_type": "markdown",
   "metadata": {},
   "source": [
    "#### Scaling"
   ]
  },
  {
   "cell_type": "code",
   "execution_count": 70,
   "metadata": {},
   "outputs": [],
   "source": [
    "from sklearn.preprocessing import StandardScaler"
   ]
  },
  {
   "cell_type": "code",
   "execution_count": 71,
   "metadata": {},
   "outputs": [],
   "source": [
    "scaler = StandardScaler()\n",
    "\n",
    "def scaling(df_: pd.DataFrame, cols: list[str]) -> pd.DataFrame:\n",
    "    return scaler.fit_transform(df_[cols])"
   ]
  },
  {
   "cell_type": "markdown",
   "metadata": {},
   "source": [
    "#### Encoding"
   ]
  },
  {
   "cell_type": "code",
   "execution_count": 72,
   "metadata": {},
   "outputs": [],
   "source": [
    "from sklearn.preprocessing import LabelEncoder"
   ]
  },
  {
   "cell_type": "code",
   "execution_count": 73,
   "metadata": {},
   "outputs": [],
   "source": [
    "encoder = LabelEncoder()\n",
    "\n",
    "def encoding(df_: pd.DataFrame, col: str) -> np.array:\n",
    "    return encoder.fit_transform(df_[col])"
   ]
  },
  {
   "cell_type": "markdown",
   "metadata": {},
   "source": [
    "#### Imputation"
   ]
  },
  {
   "cell_type": "code",
   "execution_count": 74,
   "metadata": {},
   "outputs": [],
   "source": [
    "def imputation(df_: pd.DataFrame) -> pd.DataFrame:\n",
    "    \n",
    "    for col in df_.columns[df_.isnull().any(axis=0)]:\n",
    "        df_[col].fillna(df_[col].median(), inplace=True)\n",
    "        \n",
    "    return df_"
   ]
  },
  {
   "cell_type": "markdown",
   "metadata": {},
   "source": [
    "#### Main preprocessing"
   ]
  },
  {
   "cell_type": "code",
   "execution_count": 75,
   "metadata": {},
   "outputs": [],
   "source": [
    "def preprocessing(df_: pd.DataFrame, encode_cols: list, target_col: str):\n",
    "\n",
    "    # Feature engineering\n",
    "    df_ = feature_engineering(df_)\n",
    "    \n",
    "    # Scaling\n",
    "    to_scale = df_.select_dtypes(exclude=['object']).columns\n",
    "    df_[to_scale] = scaling(df_, cols=to_scale)\n",
    "\n",
    "    # Encoding\n",
    "    for col in encode_cols:\n",
    "        df_[col] = encoding(df_, col)\n",
    "\n",
    "    # Imputation\n",
    "    df_ = imputation(df_)\n",
    "\n",
    "    X = df_.drop(target_col, axis=1)\n",
    "    y = df_[target_col]\n",
    "\n",
    "    print(f'X shape {X.shape} | Y shape {y.shape}')\n",
    "    print(f'{y.value_counts()}')\n",
    "\n",
    "    return X, y\n"
   ]
  },
  {
   "cell_type": "markdown",
   "metadata": {},
   "source": [
    "#### Train-test"
   ]
  },
  {
   "cell_type": "code",
   "execution_count": 76,
   "metadata": {},
   "outputs": [],
   "source": [
    "from sklearn.model_selection import train_test_split"
   ]
  },
  {
   "cell_type": "code",
   "execution_count": 77,
   "metadata": {},
   "outputs": [],
   "source": [
    "rd_state = 2    # gives a better classes repartition between train/test\n",
    "t_size = 0.2"
   ]
  },
  {
   "cell_type": "code",
   "execution_count": 78,
   "metadata": {},
   "outputs": [],
   "source": [
    "train_set, test_set = train_test_split(df_prep, test_size=t_size, random_state=rd_state)"
   ]
  },
  {
   "cell_type": "code",
   "execution_count": 79,
   "metadata": {},
   "outputs": [
    {
     "name": "stdout",
     "output_type": "stream",
     "text": [
      "X shape (2488, 19) | Y shape (2488,)\n",
      "2    1183\n",
      "1     587\n",
      "0     389\n",
      "3     233\n",
      "4      96\n",
      "Name: life_exp_cat, dtype: int64\n"
     ]
    }
   ],
   "source": [
    "X_train, y_train = preprocessing(train_set, encode_cols=enc_cols, target_col=cat_target)"
   ]
  },
  {
   "cell_type": "code",
   "execution_count": 80,
   "metadata": {},
   "outputs": [
    {
     "name": "stdout",
     "output_type": "stream",
     "text": [
      "X shape (623, 19) | Y shape (623,)\n",
      "2    290\n",
      "1    160\n",
      "0     95\n",
      "3     51\n",
      "4     27\n",
      "Name: life_exp_cat, dtype: int64\n"
     ]
    }
   ],
   "source": [
    "X_test, y_test = preprocessing(test_set, encode_cols=enc_cols, target_col=cat_target)"
   ]
  },
  {
   "cell_type": "code",
   "execution_count": 81,
   "metadata": {},
   "outputs": [
    {
     "data": {
      "text/html": [
       "<div>\n",
       "<style scoped>\n",
       "    .dataframe tbody tr th:only-of-type {\n",
       "        vertical-align: middle;\n",
       "    }\n",
       "\n",
       "    .dataframe tbody tr th {\n",
       "        vertical-align: top;\n",
       "    }\n",
       "\n",
       "    .dataframe thead th {\n",
       "        text-align: right;\n",
       "    }\n",
       "</style>\n",
       "<table border=\"1\" class=\"dataframe\">\n",
       "  <thead>\n",
       "    <tr style=\"text-align: right;\">\n",
       "      <th></th>\n",
       "      <th>region</th>\n",
       "      <th>country</th>\n",
       "      <th>adult_mortality</th>\n",
       "      <th>infant_mort</th>\n",
       "      <th>age1-4mort</th>\n",
       "      <th>une_poverty</th>\n",
       "      <th>une_gni</th>\n",
       "      <th>gni_capita</th>\n",
       "      <th>une_school</th>\n",
       "      <th>une_edu_spend</th>\n",
       "      <th>basic_water</th>\n",
       "      <th>bmi</th>\n",
       "      <th>age5-19thinness</th>\n",
       "      <th>age5-19obesity</th>\n",
       "      <th>measles</th>\n",
       "      <th>polio</th>\n",
       "      <th>diphtheria</th>\n",
       "      <th>gghe-d</th>\n",
       "      <th>che_gdp</th>\n",
       "    </tr>\n",
       "  </thead>\n",
       "  <tbody>\n",
       "    <tr>\n",
       "      <th>1031</th>\n",
       "      <td>1</td>\n",
       "      <td>104</td>\n",
       "      <td>-0.578428</td>\n",
       "      <td>-0.606191</td>\n",
       "      <td>-0.570712</td>\n",
       "      <td>-0.485752</td>\n",
       "      <td>0.169544</td>\n",
       "      <td>0.245368</td>\n",
       "      <td>0.224051</td>\n",
       "      <td>0.272738</td>\n",
       "      <td>0.674557</td>\n",
       "      <td>1.153713</td>\n",
       "      <td>-0.842361</td>\n",
       "      <td>1.655475</td>\n",
       "      <td>0.824024</td>\n",
       "      <td>0.704392</td>\n",
       "      <td>0.693773</td>\n",
       "      <td>-0.059311</td>\n",
       "      <td>-0.104326</td>\n",
       "    </tr>\n",
       "    <tr>\n",
       "      <th>68</th>\n",
       "      <td>0</td>\n",
       "      <td>21</td>\n",
       "      <td>3.483362</td>\n",
       "      <td>0.740388</td>\n",
       "      <td>1.017195</td>\n",
       "      <td>-0.485752</td>\n",
       "      <td>-0.362714</td>\n",
       "      <td>-0.317390</td>\n",
       "      <td>0.224051</td>\n",
       "      <td>-0.060638</td>\n",
       "      <td>-0.420433</td>\n",
       "      <td>-0.646892</td>\n",
       "      <td>1.510323</td>\n",
       "      <td>-0.970312</td>\n",
       "      <td>0.385310</td>\n",
       "      <td>0.704392</td>\n",
       "      <td>0.693773</td>\n",
       "      <td>0.073694</td>\n",
       "      <td>-0.048951</td>\n",
       "    </tr>\n",
       "    <tr>\n",
       "      <th>677</th>\n",
       "      <td>0</td>\n",
       "      <td>64</td>\n",
       "      <td>0.417426</td>\n",
       "      <td>0.385799</td>\n",
       "      <td>0.342535</td>\n",
       "      <td>-0.485752</td>\n",
       "      <td>-0.629166</td>\n",
       "      <td>-0.353131</td>\n",
       "      <td>0.224051</td>\n",
       "      <td>-0.063249</td>\n",
       "      <td>-0.253980</td>\n",
       "      <td>-0.556862</td>\n",
       "      <td>0.196211</td>\n",
       "      <td>-0.879768</td>\n",
       "      <td>0.447983</td>\n",
       "      <td>0.513401</td>\n",
       "      <td>0.756213</td>\n",
       "      <td>-0.796134</td>\n",
       "      <td>-0.807137</td>\n",
       "    </tr>\n",
       "    <tr>\n",
       "      <th>1606</th>\n",
       "      <td>2</td>\n",
       "      <td>151</td>\n",
       "      <td>0.439065</td>\n",
       "      <td>0.769496</td>\n",
       "      <td>0.784622</td>\n",
       "      <td>-0.485752</td>\n",
       "      <td>-0.685940</td>\n",
       "      <td>-0.644672</td>\n",
       "      <td>0.224051</td>\n",
       "      <td>-1.316920</td>\n",
       "      <td>-1.776991</td>\n",
       "      <td>0.253410</td>\n",
       "      <td>-0.333672</td>\n",
       "      <td>-0.178049</td>\n",
       "      <td>-0.366770</td>\n",
       "      <td>-0.059569</td>\n",
       "      <td>0.006927</td>\n",
       "      <td>-0.650715</td>\n",
       "      <td>-0.226387</td>\n",
       "    </tr>\n",
       "    <tr>\n",
       "      <th>2808</th>\n",
       "      <td>5</td>\n",
       "      <td>57</td>\n",
       "      <td>0.175421</td>\n",
       "      <td>-0.439646</td>\n",
       "      <td>-0.507557</td>\n",
       "      <td>-0.485752</td>\n",
       "      <td>-0.496262</td>\n",
       "      <td>-0.423914</td>\n",
       "      <td>0.224051</td>\n",
       "      <td>-0.060638</td>\n",
       "      <td>0.586221</td>\n",
       "      <td>0.658547</td>\n",
       "      <td>-0.312477</td>\n",
       "      <td>0.184129</td>\n",
       "      <td>0.071943</td>\n",
       "      <td>0.577065</td>\n",
       "      <td>0.506451</td>\n",
       "      <td>-0.307685</td>\n",
       "      <td>-1.183941</td>\n",
       "    </tr>\n",
       "  </tbody>\n",
       "</table>\n",
       "</div>"
      ],
      "text/plain": [
       "      region  country  adult_mortality  infant_mort  age1-4mort  une_poverty  \\\n",
       "1031       1      104        -0.578428    -0.606191   -0.570712    -0.485752   \n",
       "68         0       21         3.483362     0.740388    1.017195    -0.485752   \n",
       "677        0       64         0.417426     0.385799    0.342535    -0.485752   \n",
       "1606       2      151         0.439065     0.769496    0.784622    -0.485752   \n",
       "2808       5       57         0.175421    -0.439646   -0.507557    -0.485752   \n",
       "\n",
       "       une_gni  gni_capita  une_school  une_edu_spend  basic_water       bmi  \\\n",
       "1031  0.169544    0.245368    0.224051       0.272738     0.674557  1.153713   \n",
       "68   -0.362714   -0.317390    0.224051      -0.060638    -0.420433 -0.646892   \n",
       "677  -0.629166   -0.353131    0.224051      -0.063249    -0.253980 -0.556862   \n",
       "1606 -0.685940   -0.644672    0.224051      -1.316920    -1.776991  0.253410   \n",
       "2808 -0.496262   -0.423914    0.224051      -0.060638     0.586221  0.658547   \n",
       "\n",
       "      age5-19thinness  age5-19obesity   measles     polio  diphtheria  \\\n",
       "1031        -0.842361        1.655475  0.824024  0.704392    0.693773   \n",
       "68           1.510323       -0.970312  0.385310  0.704392    0.693773   \n",
       "677          0.196211       -0.879768  0.447983  0.513401    0.756213   \n",
       "1606        -0.333672       -0.178049 -0.366770 -0.059569    0.006927   \n",
       "2808        -0.312477        0.184129  0.071943  0.577065    0.506451   \n",
       "\n",
       "        gghe-d   che_gdp  \n",
       "1031 -0.059311 -0.104326  \n",
       "68    0.073694 -0.048951  \n",
       "677  -0.796134 -0.807137  \n",
       "1606 -0.650715 -0.226387  \n",
       "2808 -0.307685 -1.183941  "
      ]
     },
     "execution_count": 81,
     "metadata": {},
     "output_type": "execute_result"
    }
   ],
   "source": [
    "X_test.head()"
   ]
  },
  {
   "cell_type": "markdown",
   "metadata": {},
   "source": [
    "### ML modelization - Classification prototype"
   ]
  },
  {
   "cell_type": "markdown",
   "metadata": {},
   "source": [
    "This section is about testing some models and evaluation methods for classification made from initial target categories.  \n",
    "A goal is also to two or tree model, select one, then work around it to make decent predictions."
   ]
  },
  {
   "cell_type": "code",
   "execution_count": 82,
   "metadata": {},
   "outputs": [],
   "source": [
    "from sklearn.tree import DecisionTreeClassifier\n",
    "from sklearn.ensemble import RandomForestClassifier\n",
    "from sklearn.neighbors import KNeighborsClassifier"
   ]
  },
  {
   "cell_type": "code",
   "execution_count": 83,
   "metadata": {},
   "outputs": [],
   "source": [
    "tree_model = DecisionTreeClassifier(random_state=rd_state)\n",
    "rd_model = RandomForestClassifier(random_state=rd_state)\n",
    "knn_model = KNeighborsClassifier(n_neighbors=5)"
   ]
  },
  {
   "cell_type": "code",
   "execution_count": 84,
   "metadata": {},
   "outputs": [],
   "source": [
    "from sklearn.metrics import confusion_matrix, classification_report\n",
    "from sklearn.model_selection import learning_curve"
   ]
  },
  {
   "cell_type": "code",
   "execution_count": 85,
   "metadata": {},
   "outputs": [],
   "source": [
    "def eval_model(model, X_train, y_train, X_test, y_test, **kwargs: dict):\n",
    "\n",
    "    # Train model and predict\n",
    "    model.fit(X_train, y_train)\n",
    "    y_pred = model.predict(X_test)\n",
    "    \n",
    "    # Show results\n",
    "    plt.figure(figsize=(9, 6))\n",
    "    sns.heatmap(\n",
    "        confusion_matrix(y_test, y_pred), square=True, annot=True, cbar=False, fmt='d'\n",
    "    )\n",
    "    print(classification_report(y_test, y_pred))\n",
    "\n",
    "    # Cross-validation\n",
    "    N, train_score, val_score = learning_curve(model, X_train, y_train, **kwargs)\n",
    "\n",
    "    print(f'max validation score : {val_score.max()}')\n",
    "    \n",
    "    plt.figure(figsize=(12, 8))\n",
    "    plt.plot(N, train_score.mean(axis=1), label='Training score')\n",
    "    plt.plot(N, val_score.mean(axis=1), label='Cross validation score')\n",
    "    plt.title(f'{type(model).__name__} cross validation, k_folds = {kwargs[\"cv\"]}')\n",
    "    plt.legend()\n",
    "\n",
    "    \n"
   ]
  },
  {
   "cell_type": "code",
   "execution_count": 86,
   "metadata": {},
   "outputs": [],
   "source": [
    "cv_params = {\n",
    "    'cv': 5,\n",
    "    'train_sizes': np.linspace(0.1, 1, 10),\n",
    "    'scoring': 'f1_micro',      # better choice because of class imbalances\n",
    "    'shuffle': True,\n",
    "    'random_state': rd_state\n",
    "}"
   ]
  },
  {
   "cell_type": "markdown",
   "metadata": {},
   "source": [
    "#### RandomForest evalutation"
   ]
  },
  {
   "cell_type": "code",
   "execution_count": 87,
   "metadata": {},
   "outputs": [
    {
     "name": "stdout",
     "output_type": "stream",
     "text": [
      "              precision    recall  f1-score   support\n",
      "\n",
      "           0       0.93      0.94      0.93        95\n",
      "           1       0.95      0.93      0.94       160\n",
      "           2       0.96      0.94      0.95       290\n",
      "           3       0.78      1.00      0.88        51\n",
      "           4       1.00      0.78      0.88        27\n",
      "\n",
      "    accuracy                           0.94       623\n",
      "   macro avg       0.93      0.92      0.92       623\n",
      "weighted avg       0.94      0.94      0.94       623\n",
      "\n",
      "max validation score : 0.9637826961770624\n"
     ]
    },
    {
     "data": {
      "image/png": "[encoded data removed]",
      "text/plain": [
       "<Figure size 648x432 with 1 Axes>"
      ]
     },
     "metadata": {},
     "output_type": "display_data"
    },
    {
     "data": {
      "image/png": "[encoded data removed]",
      "text/plain": [
       "<Figure size 864x576 with 1 Axes>"
      ]
     },
     "metadata": {},
     "output_type": "display_data"
    }
   ],
   "source": [
    "eval_model(rd_model, X_train, y_train, X_test, y_test, **cv_params)"
   ]
  },
  {
   "cell_type": "markdown",
   "metadata": {},
   "source": [
    "#### KNN evaluation"
   ]
  },
  {
   "cell_type": "code",
   "execution_count": 88,
   "metadata": {},
   "outputs": [
    {
     "name": "stdout",
     "output_type": "stream",
     "text": [
      "              precision    recall  f1-score   support\n",
      "\n",
      "           0       0.85      0.89      0.87        95\n",
      "           1       0.81      0.74      0.77       160\n",
      "           2       0.85      0.91      0.88       290\n",
      "           3       0.85      0.76      0.80        51\n",
      "           4       1.00      0.78      0.88        27\n",
      "\n",
      "    accuracy                           0.85       623\n",
      "   macro avg       0.87      0.82      0.84       623\n",
      "weighted avg       0.85      0.85      0.84       623\n",
      "\n",
      "max validation score : 0.891566265060241\n"
     ]
    },
    {
     "data": {
      "image/png": "[encoded data removed]",
      "text/plain": [
       "<Figure size 648x432 with 1 Axes>"
      ]
     },
     "metadata": {},
     "output_type": "display_data"
    },
    {
     "data": {
      "image/png": "[encoded data removed]",
      "text/plain": [
       "<Figure size 864x576 with 1 Axes>"
      ]
     },
     "metadata": {},
     "output_type": "display_data"
    }
   ],
   "source": [
    "eval_model(knn_model, X_train, y_train, X_test, y_test, **cv_params)"
   ]
  },
  {
   "cell_type": "markdown",
   "metadata": {},
   "source": [
    "#### RandomForest optimization"
   ]
  },
  {
   "cell_type": "code",
   "execution_count": 89,
   "metadata": {},
   "outputs": [],
   "source": [
    "from sklearn.model_selection import GridSearchCV, RandomizedSearchCV"
   ]
  },
  {
   "cell_type": "code",
   "execution_count": 90,
   "metadata": {},
   "outputs": [],
   "source": [
    "def optimizer(model, X: any, y: any, param_grid: dict, cv: int):\n",
    "    \n",
    "    # Create grid and fit\n",
    "    grid = GridSearchCV(model, param_grid, cv=cv)\n",
    "    grid.fit(X, y)\n",
    "    \n",
    "    # Print report\n",
    "    print(f'Best params : {grid.best_params_}\\n', f'Best score : {grid.best_score_}')\n",
    "    \n",
    "    return grid.best_estimator_"
   ]
  },
  {
   "cell_type": "code",
   "execution_count": 91,
   "metadata": {},
   "outputs": [],
   "source": [
    "def random_optimizer(model, X: any, \n",
    "                     y: any, param_grid: dict, \n",
    "                     n: int, cv: int, \n",
    "                     scoring: str = 'f1_micro'\n",
    "):\n",
    "    grid = RandomizedSearchCV(\n",
    "        model,\n",
    "        param_distributions=param_grid,\n",
    "        n_iter=n,\n",
    "        scoring=scoring,\n",
    "        cv=cv\n",
    "    )\n",
    "    grid.fit(X, y)\n",
    "\n",
    "    # Report\n",
    "    print(f'Best params : {grid.best_params_}\\n', f'Best score : {grid.best_score_}')\n",
    "    \n",
    "    return grid.best_estimator_"
   ]
  },
  {
   "cell_type": "code",
   "execution_count": null,
   "metadata": {},
   "outputs": [],
   "source": [
    "# Random Forest grid\n",
    "rd_param_grid = {\n",
    "    'n_estimators': np.arange(100, 120),\n",
    "    'criterion': ['gini', 'entropy']\n",
    "}"
   ]
  },
  {
   "cell_type": "code",
   "execution_count": null,
   "metadata": {},
   "outputs": [
    {
     "name": "stdout",
     "output_type": "stream",
     "text": [
      "Best params : {'criterion': 'entropy', 'n_estimators': 102}\n",
      " Best score : 0.9586022157038616\n"
     ]
    }
   ],
   "source": [
    "best_rd_forest = optimizer(\n",
    "    rd_model, X_train, y_train, rd_param_grid, cv=cv_params['cv']\n",
    ")\n"
   ]
  },
  {
   "cell_type": "code",
   "execution_count": null,
   "metadata": {},
   "outputs": [
    {
     "name": "stdout",
     "output_type": "stream",
     "text": [
      "              precision    recall  f1-score   support\n",
      "\n",
      "           0       0.94      0.94      0.94        95\n",
      "           1       0.95      0.93      0.94       160\n",
      "           2       0.96      0.95      0.96       290\n",
      "           3       0.80      1.00      0.89        51\n",
      "           4       1.00      0.81      0.90        27\n",
      "\n",
      "    accuracy                           0.94       623\n",
      "   macro avg       0.93      0.93      0.92       623\n",
      "weighted avg       0.94      0.94      0.94       623\n",
      "\n",
      "max validation score : 0.9637826961770624\n"
     ]
    },
    {
     "data": {
      "image/png": "[encoded data removed]",
      "text/plain": [
       "<Figure size 648x432 with 1 Axes>"
      ]
     },
     "metadata": {},
     "output_type": "display_data"
    },
    {
     "data": {
      "image/png": "[encoded data removed]",
      "text/plain": [
       "<Figure size 864x576 with 1 Axes>"
      ]
     },
     "metadata": {},
     "output_type": "display_data"
    }
   ],
   "source": [
    "eval_model(best_rd_forest, X_train, y_train, X_test, y_test, **cv_params)"
   ]
  },
  {
   "cell_type": "markdown",
   "metadata": {},
   "source": [
    "#### KNN optimization"
   ]
  },
  {
   "cell_type": "code",
   "execution_count": null,
   "metadata": {},
   "outputs": [],
   "source": [
    "# EUCLIDIAN, MANHATTAN AND MINKOWSKI DISTANCES\n",
    "knn_param_grid = {\n",
    "    'n_neighbors': np.arange(3, 20),\n",
    "    'metric': ['euclidean', 'manhattan', 'minkowski']\n",
    "}"
   ]
  },
  {
   "cell_type": "code",
   "execution_count": null,
   "metadata": {},
   "outputs": [
    {
     "name": "stdout",
     "output_type": "stream",
     "text": [
      "Best params : {'metric': 'manhattan', 'n_neighbors': 3}\n",
      " Best score : 0.9332711126194921\n"
     ]
    }
   ],
   "source": [
    "best_knn = optimizer(knn_model, X_train, y_train, knn_param_grid, cv=cv_params['cv'])"
   ]
  },
  {
   "cell_type": "code",
   "execution_count": null,
   "metadata": {},
   "outputs": [
    {
     "name": "stdout",
     "output_type": "stream",
     "text": [
      "              precision    recall  f1-score   support\n",
      "\n",
      "           0       0.91      0.87      0.89        95\n",
      "           1       0.90      0.91      0.90       160\n",
      "           2       0.93      0.95      0.94       290\n",
      "           3       0.82      0.82      0.82        51\n",
      "           4       0.96      0.85      0.90        27\n",
      "\n",
      "    accuracy                           0.91       623\n",
      "   macro avg       0.90      0.88      0.89       623\n",
      "weighted avg       0.91      0.91      0.91       623\n",
      "\n",
      "max validation score : 0.9558232931726908\n"
     ]
    },
    {
     "data": {
      "image/png": "[encoded data removed]",
      "text/plain": [
       "<Figure size 648x432 with 1 Axes>"
      ]
     },
     "metadata": {},
     "output_type": "display_data"
    },
    {
     "data": {
      "image/png": "[encoded data removed]",
      "text/plain": [
       "<Figure size 864x576 with 1 Axes>"
      ]
     },
     "metadata": {},
     "output_type": "display_data"
    }
   ],
   "source": [
    "eval_model(best_knn, X_train, y_train, X_test, y_test, **cv_params)"
   ]
  },
  {
   "cell_type": "code",
   "execution_count": null,
   "metadata": {},
   "outputs": [],
   "source": [
    "# MAHALANOBIS DISTANCE\n",
    "\n",
    "# Covariance for mahalanobis distance metric\n",
    "X_train_cov = np.cov(X_train, rowvar=False)\n",
    "\n",
    "mhl_param_grid = {\n",
    "    'n_neighbors': np.arange(3, 20),\n",
    "    'metric': ['mahalanobis'],  # 'euclidean', 'manhattan', 'minkowski',\n",
    "    'metric_params': [{'VI': X_train_cov}]\n",
    "}"
   ]
  },
  {
   "cell_type": "code",
   "execution_count": null,
   "metadata": {},
   "outputs": [
    {
     "name": "stdout",
     "output_type": "stream",
     "text": [
      "Best params : {'metric': 'mahalanobis', 'metric_params': {'VI': array([[ 2.74004486e+00,  8.64758109e+00, -8.86312838e-01,\n",
      "        -8.02423179e-01, -8.47563064e-01, -1.52445102e-01,\n",
      "         4.45728288e-01,  3.39899630e-01,  1.45878435e-01,\n",
      "         1.03027875e-01,  7.08174292e-01,  3.84935429e-01,\n",
      "        -2.90526399e-01,  3.91076311e-01,  4.80917012e-01,\n",
      "         4.94324780e-01,  4.62695318e-01,  4.35521084e-01,\n",
      "         2.79245734e-02],\n",
      "       [ 8.64758109e+00,  2.77793979e+03,  9.86041727e-01,\n",
      "        -1.99838336e+00, -1.74045316e+00,  7.27548721e-01,\n",
      "         2.17968018e+00,  2.38600792e+00,  3.28172481e-01,\n",
      "         8.44033100e-01, -1.98476670e+00,  3.70461628e+00,\n",
      "        -1.57440507e+00,  1.67292194e+00,  2.11332316e+00,\n",
      "         1.86419830e+00,  1.92622258e+00, -5.48676387e-01,\n",
      "         1.06236740e+00],\n",
      "       [-8.86312838e-01,  9.86041727e-01,  1.00040209e+00,\n",
      "         8.18144087e-01,  7.55533899e-01,  1.19294829e-01,\n",
      "        -5.34082156e-01, -4.15655269e-01, -6.97384872e-02,\n",
      "        -1.00634065e-01, -7.25974175e-01, -5.13577492e-01,\n",
      "         4.42627916e-01, -5.68587308e-01, -5.26336610e-01,\n",
      "        -5.35758477e-01, -5.27592117e-01, -4.62082825e-01,\n",
      "        -1.79365812e-01],\n",
      "       [-8.02423179e-01, -1.99838336e+00,  8.18144087e-01,\n",
      "         1.00040209e+00,  9.09676731e-01,  1.38554308e-01,\n",
      "        -5.27029544e-01, -4.19673741e-01, -8.85422053e-02,\n",
      "        -1.93181628e-01, -8.32637592e-01, -6.28112242e-01,\n",
      "         5.61800995e-01, -5.96331125e-01, -7.12329297e-01,\n",
      "        -7.16183328e-01, -7.07292284e-01, -5.50407107e-01,\n",
      "        -2.19232584e-01],\n",
      "       [-8.47563064e-01, -1.74045316e+00,  7.55533899e-01,\n",
      "         9.09676731e-01,  1.00040209e+00,  1.22549662e-01,\n",
      "        -4.03954317e-01, -3.27340401e-01, -6.25163825e-02,\n",
      "        -1.70436283e-01, -7.77832086e-01, -5.98236100e-01,\n",
      "         4.71681228e-01, -5.34441530e-01, -6.91149958e-01,\n",
      "        -6.87183546e-01, -6.80609504e-01, -4.25584763e-01,\n",
      "        -1.51848397e-01],\n",
      "       [-1.52445102e-01,  7.27548721e-01,  1.19294829e-01,\n",
      "         1.38554308e-01,  1.22549662e-01,  3.39974634e-01,\n",
      "        -1.11102508e-01, -8.84735014e-02, -2.33918943e-02,\n",
      "        -4.25946406e-02, -1.40810903e-01, -1.35885789e-01,\n",
      "         8.75232027e-02, -1.27865699e-01, -8.06108615e-02,\n",
      "        -8.45768432e-02, -7.97418507e-02, -1.04129295e-01,\n",
      "        -3.95686870e-02],\n",
      "       [ 4.45728288e-01,  2.17968018e+00, -5.34082156e-01,\n",
      "        -5.27029544e-01, -4.03954317e-01, -1.11102508e-01,\n",
      "         9.66959015e-01,  7.03641592e-01,  1.21262893e-01,\n",
      "         1.22835214e-01,  5.05998396e-01,  4.08454004e-01,\n",
      "        -3.48417980e-01,  5.62143704e-01,  3.40428925e-01,\n",
      "         3.47026043e-01,  3.45788538e-01,  4.02426002e-01,\n",
      "         1.15401244e-01],\n",
      "       [ 3.39899630e-01,  2.38600792e+00, -4.15655269e-01,\n",
      "        -4.19673741e-01, -3.27340401e-01, -8.84735014e-02,\n",
      "         7.03641592e-01,  8.03157159e-01,  7.32556614e-02,\n",
      "         1.01748975e-01,  3.98183642e-01,  3.01720540e-01,\n",
      "        -2.81428361e-01,  4.00013116e-01,  2.62292120e-01,\n",
      "         2.71985054e-01,  2.70854155e-01,  3.01630717e-01,\n",
      "         7.65567525e-02],\n",
      "       [ 1.45878435e-01,  3.28172481e-01, -6.97384872e-02,\n",
      "        -8.85422053e-02, -6.25163825e-02, -2.33918943e-02,\n",
      "         1.21262893e-01,  7.32556614e-02,  2.67049323e-01,\n",
      "         5.61801498e-02,  7.35639481e-02,  7.65563703e-02,\n",
      "        -1.08481797e-01,  5.24063996e-02,  4.43691616e-02,\n",
      "         4.75646508e-02,  4.85024113e-02,  1.40548412e-01,\n",
      "         1.09070779e-01],\n",
      "       [ 1.03027875e-01,  8.44033100e-01, -1.00634065e-01,\n",
      "        -1.93181628e-01, -1.70436283e-01, -4.25946406e-02,\n",
      "         1.22835214e-01,  1.01748975e-01,  5.61801498e-02,\n",
      "         5.92600349e-01,  1.55920829e-01,  1.74125178e-01,\n",
      "        -1.77311456e-01,  1.31709661e-01,  1.48080491e-01,\n",
      "         1.68608353e-01,  1.57383883e-01,  3.17652179e-01,\n",
      "         1.97203656e-01],\n",
      "       [ 7.08174292e-01, -1.98476670e+00, -7.25974175e-01,\n",
      "        -8.32637592e-01, -7.77832086e-01, -1.40810903e-01,\n",
      "         5.05998396e-01,  3.98183642e-01,  7.35639481e-02,\n",
      "         1.55920829e-01,  9.91538085e-01,  6.49534730e-01,\n",
      "        -4.58299724e-01,  5.74272331e-01,  6.63420860e-01,\n",
      "         6.62102073e-01,  6.51018376e-01,  4.81601932e-01,\n",
      "         1.90939972e-01],\n",
      "       [ 3.84935429e-01,  3.70461628e+00, -5.13577492e-01,\n",
      "        -6.28112242e-01, -5.98236100e-01, -1.35885789e-01,\n",
      "         4.08454004e-01,  3.01720540e-01,  7.65563703e-02,\n",
      "         1.74125178e-01,  6.49534730e-01,  9.89215560e-01,\n",
      "        -6.78811432e-01,  7.95249967e-01,  4.74007555e-01,\n",
      "         4.41626333e-01,  4.42054143e-01,  4.48094276e-01,\n",
      "         2.36511590e-01],\n",
      "       [-2.90526399e-01, -1.57440507e+00,  4.42627916e-01,\n",
      "         5.61800995e-01,  4.71681228e-01,  8.75232027e-02,\n",
      "        -3.48417980e-01, -2.81428361e-01, -1.08481797e-01,\n",
      "        -1.77311456e-01, -4.58299724e-01, -6.78811432e-01,\n",
      "         9.90026095e-01, -5.37591707e-01, -4.40569159e-01,\n",
      "        -4.12630220e-01, -4.11581392e-01, -5.56203199e-01,\n",
      "        -3.74483931e-01],\n",
      "       [ 3.91076311e-01,  1.67292194e+00, -5.68587308e-01,\n",
      "        -5.96331125e-01, -5.34441530e-01, -1.27865699e-01,\n",
      "         5.62143704e-01,  4.00013116e-01,  5.24063996e-02,\n",
      "         1.31709661e-01,  5.74272331e-01,  7.95249967e-01,\n",
      "        -5.37591707e-01,  9.89028355e-01,  4.05538141e-01,\n",
      "         3.79879530e-01,  3.79789516e-01,  4.26066202e-01,\n",
      "         2.05533438e-01],\n",
      "       [ 4.80917012e-01,  2.11332316e+00, -5.26336610e-01,\n",
      "        -7.12329297e-01, -6.91149958e-01, -8.06108615e-02,\n",
      "         3.40428925e-01,  2.62292120e-01,  4.43691616e-02,\n",
      "         1.48080491e-01,  6.63420860e-01,  4.74007555e-01,\n",
      "        -4.40569159e-01,  4.05538141e-01,  9.94409772e-01,\n",
      "         9.19372540e-01,  9.18588004e-01,  3.75063845e-01,\n",
      "         1.81379123e-01],\n",
      "       [ 4.94324780e-01,  1.86419830e+00, -5.35758477e-01,\n",
      "        -7.16183328e-01, -6.87183546e-01, -8.45768432e-02,\n",
      "         3.47026043e-01,  2.71985054e-01,  4.75646508e-02,\n",
      "         1.68608353e-01,  6.62102073e-01,  4.41626333e-01,\n",
      "        -4.12630220e-01,  3.79879530e-01,  9.19372540e-01,\n",
      "         9.94445116e-01,  9.58491167e-01,  3.88835904e-01,\n",
      "         2.03794184e-01],\n",
      "       [ 4.62695318e-01,  1.92622258e+00, -5.27592117e-01,\n",
      "        -7.07292284e-01, -6.80609504e-01, -7.97418507e-02,\n",
      "         3.45788538e-01,  2.70854155e-01,  4.85024113e-02,\n",
      "         1.57383883e-01,  6.51018376e-01,  4.42054143e-01,\n",
      "        -4.11581392e-01,  3.79789516e-01,  9.18588004e-01,\n",
      "         9.58491167e-01,  9.94465415e-01,  3.85354010e-01,\n",
      "         2.04073747e-01],\n",
      "       [ 4.35521084e-01, -5.48676387e-01, -4.62082825e-01,\n",
      "        -5.50407107e-01, -4.25584763e-01, -1.04129295e-01,\n",
      "         4.02426002e-01,  3.01630717e-01,  1.40548412e-01,\n",
      "         3.17652179e-01,  4.81601932e-01,  4.48094276e-01,\n",
      "        -5.56203199e-01,  4.26066202e-01,  3.75063845e-01,\n",
      "         3.88835904e-01,  3.85354010e-01,  9.68772078e-01,\n",
      "         6.62062179e-01],\n",
      "       [ 2.79245734e-02,  1.06236740e+00, -1.79365812e-01,\n",
      "        -2.19232584e-01, -1.51848397e-01, -3.95686870e-02,\n",
      "         1.15401244e-01,  7.65567525e-02,  1.09070779e-01,\n",
      "         1.97203656e-01,  1.90939972e-01,  2.36511590e-01,\n",
      "        -3.74483931e-01,  2.05533438e-01,  1.81379123e-01,\n",
      "         2.03794184e-01,  2.04073747e-01,  6.62062179e-01,\n",
      "         9.62069443e-01]])}, 'n_neighbors': 3}\n",
      " Best score : 0.9224245068806413\n"
     ]
    }
   ],
   "source": [
    "best_mlh_knn = optimizer(knn_model, X_train, y_train, mhl_param_grid, cv=cv_params['cv'])"
   ]
  },
  {
   "cell_type": "code",
   "execution_count": null,
   "metadata": {},
   "outputs": [
    {
     "name": "stdout",
     "output_type": "stream",
     "text": [
      "              precision    recall  f1-score   support\n",
      "\n",
      "           0       0.61      0.60      0.60        95\n",
      "           1       0.45      0.47      0.46       160\n",
      "           2       0.65      0.69      0.67       290\n",
      "           3       0.51      0.43      0.47        51\n",
      "           4       0.92      0.41      0.56        27\n",
      "\n",
      "    accuracy                           0.59       623\n",
      "   macro avg       0.63      0.52      0.55       623\n",
      "weighted avg       0.59      0.59      0.59       623\n",
      "\n",
      "max validation score : 0.9437751004016064\n"
     ]
    },
    {
     "data": {
      "image/png": "[encoded data removed]",
      "text/plain": [
       "<Figure size 648x432 with 1 Axes>"
      ]
     },
     "metadata": {},
     "output_type": "display_data"
    },
    {
     "data": {
      "image/png": "[encoded data removed]",
      "text/plain": [
       "<Figure size 864x576 with 1 Axes>"
      ]
     },
     "metadata": {},
     "output_type": "display_data"
    }
   ],
   "source": [
    "eval_model(best_mlh_knn, X_train, y_train, X_test, y_test, **cv_params)"
   ]
  },
  {
   "cell_type": "markdown",
   "metadata": {},
   "source": [
    "#### SVM classifier"
   ]
  },
  {
   "cell_type": "code",
   "execution_count": 92,
   "metadata": {},
   "outputs": [],
   "source": [
    "from sklearn.svm import SVC"
   ]
  },
  {
   "cell_type": "code",
   "execution_count": 93,
   "metadata": {},
   "outputs": [],
   "source": [
    "svc_model = SVC(random_state=rd_state)"
   ]
  },
  {
   "cell_type": "code",
   "execution_count": null,
   "metadata": {},
   "outputs": [
    {
     "name": "stderr",
     "output_type": "stream",
     "text": [
      "/home/klemde/.cache/pypoetry/virtualenvs/life-exp-who-tOmWozEG-py3.10/lib/python3.10/site-packages/sklearn/metrics/_classification.py:1318: UndefinedMetricWarning: Precision and F-score are ill-defined and being set to 0.0 in labels with no predicted samples. Use `zero_division` parameter to control this behavior.\n",
      "  _warn_prf(average, modifier, msg_start, len(result))\n",
      "/home/klemde/.cache/pypoetry/virtualenvs/life-exp-who-tOmWozEG-py3.10/lib/python3.10/site-packages/sklearn/metrics/_classification.py:1318: UndefinedMetricWarning: Precision and F-score are ill-defined and being set to 0.0 in labels with no predicted samples. Use `zero_division` parameter to control this behavior.\n",
      "  _warn_prf(average, modifier, msg_start, len(result))\n",
      "/home/klemde/.cache/pypoetry/virtualenvs/life-exp-who-tOmWozEG-py3.10/lib/python3.10/site-packages/sklearn/metrics/_classification.py:1318: UndefinedMetricWarning: Precision and F-score are ill-defined and being set to 0.0 in labels with no predicted samples. Use `zero_division` parameter to control this behavior.\n",
      "  _warn_prf(average, modifier, msg_start, len(result))\n"
     ]
    },
    {
     "name": "stdout",
     "output_type": "stream",
     "text": [
      "              precision    recall  f1-score   support\n",
      "\n",
      "           0       0.65      0.53      0.58        95\n",
      "           1       0.22      0.04      0.06       160\n",
      "           2       0.56      1.00      0.72       290\n",
      "           3       0.00      0.00      0.00        51\n",
      "           4       0.00      0.00      0.00        27\n",
      "\n",
      "    accuracy                           0.56       623\n",
      "   macro avg       0.29      0.31      0.27       623\n",
      "weighted avg       0.42      0.56      0.44       623\n",
      "\n",
      "max validation score : 0.5694164989939637\n"
     ]
    },
    {
     "data": {
      "image/png": "[encoded data removed]",
      "text/plain": [
       "<Figure size 648x432 with 1 Axes>"
      ]
     },
     "metadata": {},
     "output_type": "display_data"
    },
    {
     "data": {
      "image/png": "[encoded data removed]",
      "text/plain": [
       "<Figure size 864x576 with 1 Axes>"
      ]
     },
     "metadata": {},
     "output_type": "display_data"
    }
   ],
   "source": [
    "eval_model(svc_model, X_train, y_train, X_test, y_test, **cv_params)\n"
   ]
  },
  {
   "cell_type": "code",
   "execution_count": 96,
   "metadata": {},
   "outputs": [],
   "source": [
    "rd_opti_params = {'n': 50, 'scoring': 'f1_micro'}\n",
    "\n",
    "svm_grid_params = {\n",
    "    'kernel': ['linear', 'poly', 'rbf', 'sigmoid', 'precomputed'],\n",
    "    'C': np.arange(1, 20),\n",
    "    'gamma': [1, 0.1, 0.01, 0.001]\n",
    "}"
   ]
  },
  {
   "cell_type": "code",
   "execution_count": 98,
   "metadata": {},
   "outputs": [],
   "source": [
    "best_svm = random_optimizer(\n",
    "    svc_model, X_train, \n",
    "    y_train, param_grid=svm_grid_params, \n",
    "    cv=cv_params['cv'], **rd_opti_params\n",
    ")"
   ]
  },
  {
   "cell_type": "code",
   "execution_count": null,
   "metadata": {},
   "outputs": [],
   "source": [
    "eval_model(best_svm, X_train, y_train, X_test, y_test, **cv_params)"
   ]
  },
  {
   "cell_type": "markdown",
   "metadata": {},
   "source": [
    "## Advanced preprocessing/modelization"
   ]
  },
  {
   "cell_type": "code",
   "execution_count": null,
   "metadata": {},
   "outputs": [],
   "source": [
    "from sklearn.base import BaseEstimator, TransformerMixin\n",
    "from sklearn.pipeline import Pipeline, make_pipeline\n",
    "from sklearn.compose import ColumnTransformer\n",
    "from sklearn.preprocessing import OneHotEncoder\n",
    "from sklearn.impute import SimpleImputer\n",
    "from sklearn.decomposition import PCA"
   ]
  },
  {
   "cell_type": "markdown",
   "metadata": {},
   "source": [
    "### Custom transformers"
   ]
  },
  {
   "cell_type": "code",
   "execution_count": null,
   "metadata": {},
   "outputs": [],
   "source": [
    "class FeaturePreSelector(BaseEstimator, TransformerMixin):\n",
    "    \n",
    "    def __init__(self, feature_names: list[str]):\n",
    "        self.feature_names = feature_names\n",
    "    \n",
    "    def fit(self, X, y=None):\n",
    "        return self\n",
    "    \n",
    "    def transform(self, X, y=None):\n",
    "        return X.loc[:, self.feature_names].copy(deep=True)"
   ]
  },
  {
   "cell_type": "code",
   "execution_count": null,
   "metadata": {},
   "outputs": [],
   "source": [
    "def transform_y(y: pd.Series) -> np.ndarray:\n",
    "    y_ = y.copy(deep=True)\n",
    "    y_ = y.apply(categorize_target)\n",
    "    y_ = LabelEncoder().fit_transform(y_)\n",
    "    return y_\n",
    "    "
   ]
  },
  {
   "cell_type": "markdown",
   "metadata": {},
   "source": [
    "### Pipelines"
   ]
  },
  {
   "cell_type": "markdown",
   "metadata": {},
   "source": [
    "#### Preprocessing"
   ]
  },
  {
   "cell_type": "code",
   "execution_count": null,
   "metadata": {},
   "outputs": [],
   "source": [
    "imput_strat = 'median'\n",
    "cat_cols = geo_cols\n",
    "num_cols = mortality_cols + std_life_cols + edu_cols + health_cols\n",
    "pre_features = num_cols + cat_cols"
   ]
  },
  {
   "cell_type": "code",
   "execution_count": null,
   "metadata": {},
   "outputs": [],
   "source": [
    "def preprocess_model(model) -> Pipeline:\n",
    "    \n",
    "    num_transformer = make_pipeline(SimpleImputer(strategy=imput_strat), StandardScaler(), PCA(n_components=3))\n",
    "    cat_transformer = OneHotEncoder(handle_unknown='ignore')\n",
    "    \n",
    "    preprocessor = ColumnTransformer([\n",
    "        ('numerical', num_transformer, num_cols),\n",
    "        ('categorical', cat_transformer, cat_cols)\n",
    "    ])\n",
    "    \n",
    "    return Pipeline([\n",
    "        ('pre_select', FeaturePreSelector(feature_names=pre_features)),\n",
    "        ('preprocess', preprocessor),\n",
    "        ('clf', model)\n",
    "    ])"
   ]
  },
  {
   "cell_type": "markdown",
   "metadata": {},
   "source": [
    "#### Train/test"
   ]
  },
  {
   "cell_type": "code",
   "execution_count": null,
   "metadata": {},
   "outputs": [],
   "source": [
    "train_set2, test_set2 = train_test_split(df, test_size=t_size, random_state=rd_state)"
   ]
  },
  {
   "cell_type": "code",
   "execution_count": null,
   "metadata": {},
   "outputs": [],
   "source": [
    "X_train2, y_train2 = train_set2.drop(target, axis=1), transform_y(train_set2[target])\n",
    "X_test2, y_test2 = test_set2.drop(target, axis=1), transform_y(test_set2[target])"
   ]
  },
  {
   "cell_type": "markdown",
   "metadata": {},
   "source": [
    "#### Results"
   ]
  },
  {
   "cell_type": "code",
   "execution_count": 63,
   "metadata": {},
   "outputs": [
    {
     "data": {
      "text/plain": [
       "Pipeline(steps=[('pre_select',\n",
       "                 FeaturePreSelector(feature_names=['adult_mortality',\n",
       "                                                   'infant_mort', 'age1-4mort',\n",
       "                                                   'une_poverty', 'une_gni',\n",
       "                                                   'gni_capita', 'une_school',\n",
       "                                                   'une_edu_spend',\n",
       "                                                   'basic_water', 'bmi',\n",
       "                                                   'age5-19thinness',\n",
       "                                                   'age5-19obesity', 'measles',\n",
       "                                                   'polio', 'diphtheria',\n",
       "                                                   'gghe-d', 'che_gdp',\n",
       "                                                   'region', 'country'])),\n",
       "                ('preprocess',\n",
       "                 ColumnTransformer(transformers=[('...\n",
       "                                                  ['adult_mortality',\n",
       "                                                   'infant_mort', 'age1-4mort',\n",
       "                                                   'une_poverty', 'une_gni',\n",
       "                                                   'gni_capita', 'une_school',\n",
       "                                                   'une_edu_spend',\n",
       "                                                   'basic_water', 'bmi',\n",
       "                                                   'age5-19thinness',\n",
       "                                                   'age5-19obesity', 'measles',\n",
       "                                                   'polio', 'diphtheria',\n",
       "                                                   'gghe-d', 'che_gdp']),\n",
       "                                                 ('categorical',\n",
       "                                                  OneHotEncoder(handle_unknown='ignore'),\n",
       "                                                  ['region', 'country'])])),\n",
       "                ('clf',\n",
       "                 KNeighborsClassifier(metric='manhattan', n_neighbors=3))])"
      ]
     },
     "execution_count": 63,
     "metadata": {},
     "output_type": "execute_result"
    }
   ],
   "source": [
    "pipe = preprocess_model(KNeighborsClassifier(n_neighbors=3, metric='manhattan'))\n",
    "pipe.fit(X_train2, y_train2)"
   ]
  },
  {
   "cell_type": "code",
   "execution_count": 64,
   "metadata": {},
   "outputs": [
    {
     "name": "stdout",
     "output_type": "stream",
     "text": [
      "              precision    recall  f1-score   support\n",
      "\n",
      "           0       0.90      0.89      0.90        95\n",
      "           1       0.88      0.91      0.90       160\n",
      "           2       0.93      0.95      0.94       290\n",
      "           3       0.93      0.76      0.84        51\n",
      "           4       0.92      0.89      0.91        27\n",
      "\n",
      "    accuracy                           0.91       623\n",
      "   macro avg       0.91      0.88      0.90       623\n",
      "weighted avg       0.91      0.91      0.91       623\n",
      "\n",
      "max validation score : 0.9357429718875502\n"
     ]
    },
    {
     "data": {
      "image/png": "[encoded data removed]",
      "text/plain": [
       "<Figure size 648x432 with 1 Axes>"
      ]
     },
     "metadata": {},
     "output_type": "display_data"
    },
    {
     "data": {
      "image/png": "[encoded data removed]",
      "text/plain": [
       "<Figure size 864x576 with 1 Axes>"
      ]
     },
     "metadata": {},
     "output_type": "display_data"
    }
   ],
   "source": [
    "eval_model(pipe, X_train2, y_train2, X_test2, y_test2, **cv_params)"
   ]
  },
  {
   "cell_type": "markdown",
   "metadata": {},
   "source": [
    "#### Optimization"
   ]
  },
  {
   "cell_type": "code",
   "execution_count": 70,
   "metadata": {},
   "outputs": [],
   "source": [
    "n = 50   # number of iteration in the grid search\n",
    "param_grid = {\n",
    "    'preprocess__numerical__pca__n_components': np.arange(2, 17),\n",
    "    'clf__n_neighbors': np.arange(2, 20),\n",
    "    'clf__metric': ['euclidean', 'manhattan', 'minkowski']\n",
    "}"
   ]
  },
  {
   "cell_type": "code",
   "execution_count": 74,
   "metadata": {},
   "outputs": [
    {
     "data": {
      "text/plain": [
       "GridSearchCV(cv=5,\n",
       "             estimator=Pipeline(steps=[('pre_select',\n",
       "                                        FeaturePreSelector(feature_names=['adult_mortality',\n",
       "                                                                          'infant_mort',\n",
       "                                                                          'age1-4mort',\n",
       "                                                                          'une_poverty',\n",
       "                                                                          'une_gni',\n",
       "                                                                          'gni_capita',\n",
       "                                                                          'une_school',\n",
       "                                                                          'une_edu_spend',\n",
       "                                                                          'basic_water',\n",
       "                                                                          'bmi',\n",
       "                                                                          'age5-19thinness',\n",
       "                                                                          'age5-19obesity',\n",
       "                                                                          'measles',\n",
       "                                                                          'polio',\n",
       "                                                                          'diphtheria',\n",
       "                                                                          'gghe-d',\n",
       "                                                                          'che_gdp',\n",
       "                                                                          'region',\n",
       "                                                                          'country'])),\n",
       "                                       ('preprocess',\n",
       "                                        Column...\n",
       "                                                                         OneHotEncoder(handle_unknown='ignore'),\n",
       "                                                                         ['region',\n",
       "                                                                          'country'])])),\n",
       "                                       ('clf',\n",
       "                                        KNeighborsClassifier(metric='manhattan',\n",
       "                                                             n_neighbors=3))]),\n",
       "             param_grid={'clf__metric': ['euclidean', 'manhattan', 'minkowski'],\n",
       "                         'clf__n_neighbors': array([ 2,  3,  4,  5,  6,  7,  8,  9, 10, 11, 12, 13, 14, 15, 16, 17, 18,\n",
       "       19]),\n",
       "                         'preprocess__numerical__pca__n_components': array([ 2,  3,  4,  5,  6,  7,  8,  9, 10, 11, 12, 13, 14, 15, 16])},\n",
       "             scoring='f1_micro')"
      ]
     },
     "execution_count": 74,
     "metadata": {},
     "output_type": "execute_result"
    }
   ],
   "source": [
    "grid = GridSearchCV(\n",
    "    pipe,\n",
    "    param_grid=param_grid,\n",
    "    scoring=cv_params['scoring'],\n",
    "    cv=cv_params['cv']\n",
    ")\n",
    "grid.fit(X_train2, y_train2)"
   ]
  },
  {
   "cell_type": "code",
   "execution_count": 71,
   "metadata": {},
   "outputs": [
    {
     "data": {
      "text/plain": [
       "RandomizedSearchCV(cv=5,\n",
       "                   estimator=Pipeline(steps=[('pre_select',\n",
       "                                              FeaturePreSelector(feature_names=['adult_mortality',\n",
       "                                                                                'infant_mort',\n",
       "                                                                                'age1-4mort',\n",
       "                                                                                'une_poverty',\n",
       "                                                                                'une_gni',\n",
       "                                                                                'gni_capita',\n",
       "                                                                                'une_school',\n",
       "                                                                                'une_edu_spend',\n",
       "                                                                                'basic_water',\n",
       "                                                                                'bmi',\n",
       "                                                                                'age5-19thinness',\n",
       "                                                                                'age5-19obesity',\n",
       "                                                                                'measles',\n",
       "                                                                                'polio',\n",
       "                                                                                'diphtheria',\n",
       "                                                                                'gghe-d',\n",
       "                                                                                'che_gdp',\n",
       "                                                                                'region',\n",
       "                                                                                'country'])),\n",
       "                                             ('preprocess',...\n",
       "                                                                               ['region',\n",
       "                                                                                'country'])])),\n",
       "                                             ('clf',\n",
       "                                              KNeighborsClassifier(metric='manhattan',\n",
       "                                                                   n_neighbors=3))]),\n",
       "                   n_iter=50,\n",
       "                   param_distributions={'clf__metric': ['euclidean',\n",
       "                                                        'manhattan',\n",
       "                                                        'minkowski'],\n",
       "                                        'clf__n_neighbors': array([ 2,  3,  4,  5,  6,  7,  8,  9, 10, 11, 12, 13, 14, 15, 16, 17, 18,\n",
       "       19]),\n",
       "                                        'preprocess__numerical__pca__n_components': array([ 2,  3,  4,  5,  6,  7,  8,  9, 10, 11, 12, 13, 14, 15, 16])},\n",
       "                   scoring='f1_micro')"
      ]
     },
     "execution_count": 71,
     "metadata": {},
     "output_type": "execute_result"
    }
   ],
   "source": [
    "# grid = RandomizedSearchCV(\n",
    "#     pipe,\n",
    "#     param_distributions=param_grid,\n",
    "#     n_iter=n,\n",
    "#     scoring=cv_params['scoring'],\n",
    "#     cv=cv_params['cv']\n",
    "# )\n",
    "# grid.fit(X_train2, y_train2)"
   ]
  },
  {
   "cell_type": "code",
   "execution_count": 75,
   "metadata": {},
   "outputs": [
    {
     "data": {
      "text/plain": [
       "{'clf__metric': 'manhattan',\n",
       " 'clf__n_neighbors': 2,\n",
       " 'preprocess__numerical__pca__n_components': 16}"
      ]
     },
     "execution_count": 75,
     "metadata": {},
     "output_type": "execute_result"
    }
   ],
   "source": [
    "grid.best_params_"
   ]
  },
  {
   "cell_type": "code",
   "execution_count": 76,
   "metadata": {},
   "outputs": [
    {
     "data": {
      "text/plain": [
       "0.9115730527744782"
      ]
     },
     "execution_count": 76,
     "metadata": {},
     "output_type": "execute_result"
    }
   ],
   "source": [
    "grid.best_score_"
   ]
  },
  {
   "cell_type": "code",
   "execution_count": 77,
   "metadata": {},
   "outputs": [
    {
     "name": "stdout",
     "output_type": "stream",
     "text": [
      "              precision    recall  f1-score   support\n",
      "\n",
      "           0       0.80      0.96      0.87        95\n",
      "           1       0.88      0.89      0.88       160\n",
      "           2       0.93      0.94      0.94       290\n",
      "           3       0.97      0.71      0.82        51\n",
      "           4       1.00      0.63      0.77        27\n",
      "\n",
      "    accuracy                           0.90       623\n",
      "   macro avg       0.92      0.83      0.86       623\n",
      "weighted avg       0.91      0.90      0.90       623\n",
      "\n",
      "max validation score : 0.9357429718875502\n"
     ]
    },
    {
     "data": {
      "image/png": "[encoded data removed]",
      "text/plain": [
       "<Figure size 648x432 with 1 Axes>"
      ]
     },
     "metadata": {},
     "output_type": "display_data"
    },
    {
     "data": {
      "image/png": "[encoded data removed]",
      "text/plain": [
       "<Figure size 864x576 with 1 Axes>"
      ]
     },
     "metadata": {},
     "output_type": "display_data"
    }
   ],
   "source": [
    "eval_model(grid.best_estimator_, X_train2, y_train2, X_test2, y_test2, **cv_params)"
   ]
  },
  {
   "cell_type": "markdown",
   "metadata": {},
   "source": [
    "#### Introducing PCA"
   ]
  },
  {
   "cell_type": "code",
   "execution_count": 53,
   "metadata": {},
   "outputs": [],
   "source": [
    "from matplotlib.ticker import PercentFormatter\n",
    "from sklearn.decomposition import PCA"
   ]
  },
  {
   "cell_type": "code",
   "execution_count": 54,
   "metadata": {},
   "outputs": [],
   "source": [
    "def pareto(data: any) -> None:\n",
    "    \n",
    "    y = list(data)\n",
    "    x = range(len(y))\n",
    "    ycum = np.cumsum(y)\n",
    "    \n",
    "    plt.figure(figsize=(9, 6))\n",
    "    plt.bar(x, y)\n",
    "    plt.plot(x, ycum,\"-r\")"
   ]
  },
  {
   "cell_type": "code",
   "execution_count": 55,
   "metadata": {},
   "outputs": [],
   "source": [
    "def pareto_detailed(data):\n",
    "\n",
    "    y = list(data)\n",
    "    x = range(len(data))\n",
    "    ycum = np.cumsum(y)/sum(y)*100\n",
    "\n",
    "    fig, ax = plt.subplots()\n",
    "    ax.bar(x,y)\n",
    "\n",
    "    ax2 = ax.twinx()\n",
    "    ax2.plot(x, ycum, color=\"C1\", marker=\"D\", ms=7)\n",
    "    ax2.axhline(y=80, color=\"r\")\n",
    "    ax2.yaxis.set_major_formatter(PercentFormatter())\n",
    "    ax.tick_params(axis=\"y\", colors=\"C0\")\n",
    "    ax2.tick_params(axis=\"y\", colors=\"C1\")\n",
    "    \n",
    "    plt.ylim(0,110)"
   ]
  },
  {
   "cell_type": "code",
   "execution_count": 56,
   "metadata": {},
   "outputs": [],
   "source": [
    "def make_pca(X: any) -> np.ndarray :\n",
    "    \n",
    "    pca = PCA()\n",
    "    pca.fit(X)\n",
    "    \n",
    "    pareto(pca.explained_variance_ratio_)\n",
    "    pareto_detailed(pca.explained_variance_ratio_)"
   ]
  },
  {
   "cell_type": "code",
   "execution_count": 57,
   "metadata": {},
   "outputs": [
    {
     "data": {
      "image/png": "[encoded data removed]",
      "text/plain": [
       "<Figure size 648x432 with 1 Axes>"
      ]
     },
     "metadata": {},
     "output_type": "display_data"
    },
    {
     "data": {
      "image/png": "[encoded data removed]",
      "text/plain": [
       "<Figure size 432x288 with 2 Axes>"
      ]
     },
     "metadata": {},
     "output_type": "display_data"
    }
   ],
   "source": [
    "make_pca(X_train.drop(cat_cols, axis=1))"
   ]
  },
  {
   "cell_type": "code",
   "execution_count": null,
   "metadata": {},
   "outputs": [],
   "source": []
  }
 ],
 "metadata": {
  "interpreter": {
   "hash": "b89b5cfaba6639976dc87ff2fec6d58faec662063367e2c229c520fe71072417"
  },
  "kernelspec": {
   "display_name": "Python 3.10.0 64-bit",
   "language": "python",
   "name": "python3"
  },
  "language_info": {
   "codemirror_mode": {
    "name": "ipython",
    "version": 3
   },
   "file_extension": ".py",
   "mimetype": "text/x-python",
   "name": "python",
   "nbconvert_exporter": "python",
   "pygments_lexer": "ipython3",
   "version": "3.10.4"
  },
  "orig_nbformat": 4
 },
 "nbformat": 4,
 "nbformat_minor": 2
}
